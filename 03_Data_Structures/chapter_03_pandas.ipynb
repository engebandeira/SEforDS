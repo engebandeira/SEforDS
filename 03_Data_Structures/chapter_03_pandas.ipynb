{
 "cells": [
  {
   "attachments": {},
   "cell_type": "markdown",
   "metadata": {},
   "source": [
    "# Using Data Structures Effectively \n",
    "\n",
    "## pandas DataFrames\n",
    "\n",
    "### DataFrame functionality"
   ]
  },
  {
   "cell_type": "code",
   "execution_count": 1,
   "metadata": {},
   "outputs": [],
   "source": [
    "import pandas as pd"
   ]
  },
  {
   "cell_type": "code",
   "execution_count": 2,
   "metadata": {},
   "outputs": [],
   "source": [
    "usa_data = pd.Series(\n",
    "    [13.33, 14.02, 14.02, 14.25], index=[\"2000\", \"2001\", \"2002\", \"2003\"]\n",
    ")"
   ]
  },
  {
   "cell_type": "code",
   "execution_count": 3,
   "metadata": {},
   "outputs": [
    {
     "data": {
      "text/plain": [
       "2000    13.33\n",
       "2001    14.02\n",
       "2002    14.02\n",
       "2003    14.25\n",
       "dtype: float64"
      ]
     },
     "execution_count": 3,
     "metadata": {},
     "output_type": "execute_result"
    }
   ],
   "source": [
    "usa_data"
   ]
  },
  {
   "cell_type": "code",
   "execution_count": 4,
   "metadata": {},
   "outputs": [],
   "source": [
    "india_data = pd.Series([9.02, 9.01, 8.84, 8.84], index=[\"2000\", \"2001\", \"2002\", \"2003\"])"
   ]
  },
  {
   "cell_type": "code",
   "execution_count": 5,
   "metadata": {},
   "outputs": [],
   "source": [
    "df = pd.DataFrame({\"USA\": usa_data, \"India\": india_data})"
   ]
  },
  {
   "cell_type": "code",
   "execution_count": 6,
   "metadata": {},
   "outputs": [
    {
     "data": {
      "text/html": [
       "<div>\n",
       "<style scoped>\n",
       "    .dataframe tbody tr th:only-of-type {\n",
       "        vertical-align: middle;\n",
       "    }\n",
       "\n",
       "    .dataframe tbody tr th {\n",
       "        vertical-align: top;\n",
       "    }\n",
       "\n",
       "    .dataframe thead th {\n",
       "        text-align: right;\n",
       "    }\n",
       "</style>\n",
       "<table border=\"1\" class=\"dataframe\">\n",
       "  <thead>\n",
       "    <tr style=\"text-align: right;\">\n",
       "      <th></th>\n",
       "      <th>USA</th>\n",
       "      <th>India</th>\n",
       "    </tr>\n",
       "  </thead>\n",
       "  <tbody>\n",
       "    <tr>\n",
       "      <th>2000</th>\n",
       "      <td>13.33</td>\n",
       "      <td>9.02</td>\n",
       "    </tr>\n",
       "    <tr>\n",
       "      <th>2001</th>\n",
       "      <td>14.02</td>\n",
       "      <td>9.01</td>\n",
       "    </tr>\n",
       "    <tr>\n",
       "      <th>2002</th>\n",
       "      <td>14.02</td>\n",
       "      <td>8.84</td>\n",
       "    </tr>\n",
       "    <tr>\n",
       "      <th>2003</th>\n",
       "      <td>14.25</td>\n",
       "      <td>8.84</td>\n",
       "    </tr>\n",
       "  </tbody>\n",
       "</table>\n",
       "</div>"
      ],
      "text/plain": [
       "        USA  India\n",
       "2000  13.33   9.02\n",
       "2001  14.02   9.01\n",
       "2002  14.02   8.84\n",
       "2003  14.25   8.84"
      ]
     },
     "execution_count": 6,
     "metadata": {},
     "output_type": "execute_result"
    }
   ],
   "source": [
    "df"
   ]
  },
  {
   "attachments": {},
   "cell_type": "markdown",
   "metadata": {},
   "source": [
    "### DataFrame performance"
   ]
  },
  {
   "cell_type": "code",
   "execution_count": 7,
   "metadata": {},
   "outputs": [],
   "source": [
    "df = pd.read_excel(\"../data/SG_GEN_PARL.xlsx\")\n",
    "df = df.drop(\n",
    "    [\n",
    "        \"Goal\",\n",
    "        \"Target\",\n",
    "        \"Indicator\",\n",
    "        \"SeriesCode\",\n",
    "        \"SeriesDescription\",\n",
    "        \"GeoAreaCode\",\n",
    "        \"Reporting Type\",\n",
    "        \"Sex\",\n",
    "        \"Units\",\n",
    "    ],\n",
    "    axis=1,\n",
    ")\n",
    "df = df.set_index(\"GeoAreaName\").transpose()"
   ]
  },
  {
   "cell_type": "code",
   "execution_count": 9,
   "metadata": {},
   "outputs": [
    {
     "data": {
      "text/html": [
       "<div>\n",
       "<style scoped>\n",
       "    .dataframe tbody tr th:only-of-type {\n",
       "        vertical-align: middle;\n",
       "    }\n",
       "\n",
       "    .dataframe tbody tr th {\n",
       "        vertical-align: top;\n",
       "    }\n",
       "\n",
       "    .dataframe thead th {\n",
       "        text-align: right;\n",
       "    }\n",
       "</style>\n",
       "<table border=\"1\" class=\"dataframe\">\n",
       "  <thead>\n",
       "    <tr style=\"text-align: right;\">\n",
       "      <th>GeoAreaName</th>\n",
       "      <th>Afghanistan</th>\n",
       "      <th>Albania</th>\n",
       "      <th>Algeria</th>\n",
       "      <th>Andorra</th>\n",
       "      <th>Angola</th>\n",
       "      <th>Antigua and Barbuda</th>\n",
       "      <th>Argentina</th>\n",
       "      <th>Armenia</th>\n",
       "      <th>Australia</th>\n",
       "      <th>Austria</th>\n",
       "      <th>...</th>\n",
       "      <th>United Republic of Tanzania</th>\n",
       "      <th>United States of America</th>\n",
       "      <th>Uruguay</th>\n",
       "      <th>Uzbekistan</th>\n",
       "      <th>Vanuatu</th>\n",
       "      <th>Venezuela (Bolivarian Republic of)</th>\n",
       "      <th>Viet Nam</th>\n",
       "      <th>Yemen</th>\n",
       "      <th>Zambia</th>\n",
       "      <th>Zimbabwe</th>\n",
       "    </tr>\n",
       "  </thead>\n",
       "  <tbody>\n",
       "    <tr>\n",
       "      <th>2000</th>\n",
       "      <td>NaN</td>\n",
       "      <td>5.16</td>\n",
       "      <td>3.16</td>\n",
       "      <td>7.14</td>\n",
       "      <td>15.45</td>\n",
       "      <td>5.26</td>\n",
       "      <td>28.02</td>\n",
       "      <td>3.05</td>\n",
       "      <td>22.45</td>\n",
       "      <td>26.78</td>\n",
       "      <td>...</td>\n",
       "      <td>22.18</td>\n",
       "      <td>13.33</td>\n",
       "      <td>12.12</td>\n",
       "      <td>6.8</td>\n",
       "      <td>0.00</td>\n",
       "      <td>12.14</td>\n",
       "      <td>26.00</td>\n",
       "      <td>0.66</td>\n",
       "      <td>10.13</td>\n",
       "      <td>14.00</td>\n",
       "    </tr>\n",
       "    <tr>\n",
       "      <th>2001</th>\n",
       "      <td>NaN</td>\n",
       "      <td>5.16</td>\n",
       "      <td>3.42</td>\n",
       "      <td>7.14</td>\n",
       "      <td>15.45</td>\n",
       "      <td>5.26</td>\n",
       "      <td>26.46</td>\n",
       "      <td>3.05</td>\n",
       "      <td>22.97</td>\n",
       "      <td>26.78</td>\n",
       "      <td>...</td>\n",
       "      <td>22.18</td>\n",
       "      <td>14.02</td>\n",
       "      <td>12.12</td>\n",
       "      <td>7.2</td>\n",
       "      <td>0.00</td>\n",
       "      <td>9.70</td>\n",
       "      <td>26.00</td>\n",
       "      <td>0.66</td>\n",
       "      <td>10.13</td>\n",
       "      <td>9.33</td>\n",
       "    </tr>\n",
       "    <tr>\n",
       "      <th>2002</th>\n",
       "      <td>NaN</td>\n",
       "      <td>5.71</td>\n",
       "      <td>3.42</td>\n",
       "      <td>14.29</td>\n",
       "      <td>15.45</td>\n",
       "      <td>5.26</td>\n",
       "      <td>30.74</td>\n",
       "      <td>3.05</td>\n",
       "      <td>25.33</td>\n",
       "      <td>26.78</td>\n",
       "      <td>...</td>\n",
       "      <td>22.26</td>\n",
       "      <td>14.02</td>\n",
       "      <td>12.12</td>\n",
       "      <td>7.2</td>\n",
       "      <td>0.00</td>\n",
       "      <td>9.70</td>\n",
       "      <td>26.00</td>\n",
       "      <td>0.67</td>\n",
       "      <td>12.03</td>\n",
       "      <td>10.00</td>\n",
       "    </tr>\n",
       "    <tr>\n",
       "      <th>2003</th>\n",
       "      <td>NaN</td>\n",
       "      <td>5.71</td>\n",
       "      <td>6.17</td>\n",
       "      <td>14.29</td>\n",
       "      <td>15.45</td>\n",
       "      <td>5.26</td>\n",
       "      <td>30.74</td>\n",
       "      <td>3.05</td>\n",
       "      <td>25.33</td>\n",
       "      <td>33.88</td>\n",
       "      <td>...</td>\n",
       "      <td>22.26</td>\n",
       "      <td>14.25</td>\n",
       "      <td>12.12</td>\n",
       "      <td>7.2</td>\n",
       "      <td>1.92</td>\n",
       "      <td>9.70</td>\n",
       "      <td>27.31</td>\n",
       "      <td>0.67</td>\n",
       "      <td>12.03</td>\n",
       "      <td>10.00</td>\n",
       "    </tr>\n",
       "    <tr>\n",
       "      <th>2004</th>\n",
       "      <td>NaN</td>\n",
       "      <td>5.71</td>\n",
       "      <td>6.17</td>\n",
       "      <td>14.29</td>\n",
       "      <td>15.45</td>\n",
       "      <td>5.26</td>\n",
       "      <td>30.74</td>\n",
       "      <td>4.58</td>\n",
       "      <td>25.33</td>\n",
       "      <td>33.88</td>\n",
       "      <td>...</td>\n",
       "      <td>21.36</td>\n",
       "      <td>14.25</td>\n",
       "      <td>12.12</td>\n",
       "      <td>7.2</td>\n",
       "      <td>1.92</td>\n",
       "      <td>9.70</td>\n",
       "      <td>27.31</td>\n",
       "      <td>0.33</td>\n",
       "      <td>12.03</td>\n",
       "      <td>10.00</td>\n",
       "    </tr>\n",
       "  </tbody>\n",
       "</table>\n",
       "<p>5 rows × 195 columns</p>\n",
       "</div>"
      ],
      "text/plain": [
       "GeoAreaName  Afghanistan  Albania  Algeria  Andorra  Angola  \\\n",
       "2000                 NaN     5.16     3.16     7.14   15.45   \n",
       "2001                 NaN     5.16     3.42     7.14   15.45   \n",
       "2002                 NaN     5.71     3.42    14.29   15.45   \n",
       "2003                 NaN     5.71     6.17    14.29   15.45   \n",
       "2004                 NaN     5.71     6.17    14.29   15.45   \n",
       "\n",
       "GeoAreaName  Antigua and Barbuda  Argentina  Armenia  Australia  Austria  ...  \\\n",
       "2000                        5.26      28.02     3.05      22.45    26.78  ...   \n",
       "2001                        5.26      26.46     3.05      22.97    26.78  ...   \n",
       "2002                        5.26      30.74     3.05      25.33    26.78  ...   \n",
       "2003                        5.26      30.74     3.05      25.33    33.88  ...   \n",
       "2004                        5.26      30.74     4.58      25.33    33.88  ...   \n",
       "\n",
       "GeoAreaName  United Republic of Tanzania  United States of America  Uruguay  \\\n",
       "2000                               22.18                     13.33    12.12   \n",
       "2001                               22.18                     14.02    12.12   \n",
       "2002                               22.26                     14.02    12.12   \n",
       "2003                               22.26                     14.25    12.12   \n",
       "2004                               21.36                     14.25    12.12   \n",
       "\n",
       "GeoAreaName  Uzbekistan  Vanuatu  Venezuela (Bolivarian Republic of)  \\\n",
       "2000                6.8     0.00                               12.14   \n",
       "2001                7.2     0.00                                9.70   \n",
       "2002                7.2     0.00                                9.70   \n",
       "2003                7.2     1.92                                9.70   \n",
       "2004                7.2     1.92                                9.70   \n",
       "\n",
       "GeoAreaName  Viet Nam  Yemen  Zambia  Zimbabwe  \n",
       "2000            26.00   0.66   10.13     14.00  \n",
       "2001            26.00   0.66   10.13      9.33  \n",
       "2002            26.00   0.67   12.03     10.00  \n",
       "2003            27.31   0.67   12.03     10.00  \n",
       "2004            27.31   0.33   12.03     10.00  \n",
       "\n",
       "[5 rows x 195 columns]"
      ]
     },
     "execution_count": 9,
     "metadata": {},
     "output_type": "execute_result"
    }
   ],
   "source": [
    "df.head()"
   ]
  },
  {
   "cell_type": "code",
   "execution_count": 10,
   "metadata": {},
   "outputs": [
    {
     "name": "stdout",
     "output_type": "stream",
     "text": [
      "65 μs ± 1.27 μs per loop (mean ± std. dev. of 7 runs, 10,000 loops each)\n"
     ]
    }
   ],
   "source": [
    "%%timeit\n",
    "df[\"India_fraction\"] = df[\"India\"] / 100"
   ]
  },
  {
   "cell_type": "code",
   "execution_count": 11,
   "metadata": {},
   "outputs": [
    {
     "name": "stdout",
     "output_type": "stream",
     "text": [
      "68.1 μs ± 219 ns per loop (mean ± std. dev. of 7 runs, 10,000 loops each)\n"
     ]
    }
   ],
   "source": [
    "%%timeit\n",
    "df[\"India_fraction\"] = df[\"India\"].apply(lambda x: x / 100)"
   ]
  },
  {
   "cell_type": "code",
   "execution_count": 12,
   "metadata": {},
   "outputs": [
    {
     "name": "stdout",
     "output_type": "stream",
     "text": [
      "483 μs ± 8.38 μs per loop (mean ± std. dev. of 7 runs, 1,000 loops each)\n"
     ]
    }
   ],
   "source": [
    "%%timeit\n",
    "df[\"India_fraction\"] = [row[\"India\"] / 100 for index, row in df.iterrows()]"
   ]
  }
 ],
 "metadata": {
  "kernelspec": {
   "display_name": "Python 3",
   "language": "python",
   "name": "python3"
  },
  "language_info": {
   "codemirror_mode": {
    "name": "ipython",
    "version": 3
   },
   "file_extension": ".py",
   "mimetype": "text/x-python",
   "name": "python",
   "nbconvert_exporter": "python",
   "pygments_lexer": "ipython3",
   "version": "3.10.0rc2"
  }
 },
 "nbformat": 4,
 "nbformat_minor": 2
}
